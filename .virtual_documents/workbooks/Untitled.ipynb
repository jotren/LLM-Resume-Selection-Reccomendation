import pandas as pd
import json

# Load the CSV file
file_path = '../data/raw/UpdatedResumeDataSet.csv'
df = pd.read_csv(file_path)

# Extract the 'Resume' column
resumes = df['resume'].tolist()

# Create the JSON structure
resume_data = [{"resume": resume} for resume in resumes]

# Convert to JSON string
resume_json = json.dumps({"resumes": resume_data}, indent=4)

# Save to a file (optional)
with open('../data/processed/resumes.json', 'w') as json_file:
    json_file.write(resume_json)


