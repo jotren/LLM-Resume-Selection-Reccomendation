





import pandas as pd


df = pd.read_csv("../data/raw/UpdatedResumeDataSet.csv")





df.category.value_counts()


from collections import Counter
import matplotlib.pyplot as plt
import seaborn as sns; sns.set_theme()
import warnings; warnings.filterwarnings("ignore")
from wordcloud import WordCloud, STOPWORDS





# Most frequent tokens for each tag
tag="Data Science"
plt.figure(figsize=(10, 3))
subset = df[df.category==tag]
text = subset.resume.values
cloud = WordCloud(
    stopwords=STOPWORDS, background_color="black", collocations=False,
    width=500, height=300).generate(" ".join(text))
plt.axis("off")
plt.imshow(cloud)


# Most frequent tokens for each tag
tag="Python Developer"
plt.figure(figsize=(10, 3))
subset = df[df.category==tag]
text = subset.resume.values
cloud = WordCloud(
    stopwords=STOPWORDS, background_color="black", collocations=False,
    width=500, height=300).generate(" ".join(text))
plt.axis("off")
plt.imshow(cloud)


# Most frequent tokens for each tag
tag="DevOps Engineer"
plt.figure(figsize=(10, 3))
subset = df[df.category==tag]
text = subset.resume.values
cloud = WordCloud(
    stopwords=STOPWORDS, background_color="black", collocations=False,
    width=500, height=300).generate(" ".join(text))
plt.axis("off")
plt.imshow(cloud)



