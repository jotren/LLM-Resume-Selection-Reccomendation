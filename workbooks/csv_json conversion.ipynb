{
 "cells": [
  {
   "cell_type": "code",
   "execution_count": 5,
   "id": "7d3a95d9-a017-4a13-8aee-cdac0684119e",
   "metadata": {},
   "outputs": [],
   "source": [
    "import pandas as pd\n",
    "import json\n",
    "\n",
    "# Load the CSV file\n",
    "file_path = '../data/raw/UpdatedResumeDataSet.csv'\n",
    "df = pd.read_csv(file_path)\n",
    "\n",
    "# Extract the 'Resume' column\n",
    "resumes = df['resume'].tolist()\n",
    "\n",
    "# Create the JSON structure\n",
    "resume_data = [{\"resume\": resume} for resume in resumes]\n",
    "\n",
    "# Convert to JSON string\n",
    "resume_json = json.dumps({\"resumes\": resume_data}, indent=4)\n",
    "\n",
    "# Save to a file (optional)\n",
    "with open('../data/processed/resumes.json', 'w') as json_file:\n",
    "    json_file.write(resume_json)\n",
    "\n"
   ]
  }
 ],
 "metadata": {
  "kernelspec": {
   "display_name": "Python (LLM)",
   "language": "python",
   "name": "llm"
  },
  "language_info": {
   "codemirror_mode": {
    "name": "ipython",
    "version": 3
   },
   "file_extension": ".py",
   "mimetype": "text/x-python",
   "name": "python",
   "nbconvert_exporter": "python",
   "pygments_lexer": "ipython3",
   "version": "3.10.14"
  }
 },
 "nbformat": 4,
 "nbformat_minor": 5
}
